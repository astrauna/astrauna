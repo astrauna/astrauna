{
  "nbformat": 4,
  "nbformat_minor": 0,
  "metadata": {
    "colab": {
      "provenance": [],
      "authorship_tag": "ABX9TyOtO/avw6/iMM+eWyyw52pb",
      "include_colab_link": true
    },
    "kernelspec": {
      "name": "python3",
      "display_name": "Python 3"
    },
    "language_info": {
      "name": "python"
    }
  },
  "cells": [
    {
      "cell_type": "markdown",
      "metadata": {
        "id": "view-in-github",
        "colab_type": "text"
      },
      "source": [
        "<a href=\"https://colab.research.google.com/github/astrauna/astrauna/blob/main/customer_churn.ipynb\" target=\"_parent\"><img src=\"https://colab.research.google.com/assets/colab-badge.svg\" alt=\"Open In Colab\"/></a>"
      ]
    },
    {
      "cell_type": "code",
      "source": [
        "import pandas as pd\n",
        "url = 'https://www.kaggle.com/datasets/barun2104/telecom-churn'\n",
        "data = pd.read_csv(url)\n",
        "# Display the first few rows of the dataset\n",
        "print(data.head())\n",
        "\n",
        "# Display summary statistics\n",
        "print(data.describe())\n",
        "\n",
        "# Check for missing values\n",
        "# Handling missing values\n",
        "data.fillna(data.mean(), inplace=True)  # Example: fill missing values with mean\n",
        "\n",
        "# Encoding categorical data\n",
        "data = pd.get_dummies(data, drop_first=True)\n",
        "\n",
        "# Normalizing features\n",
        "from sklearn.preprocessing import MinMaxScaler\n",
        "\n",
        "scaler = MinMaxScaler()\n",
        "data_scaled = scaler.fit_transform(data)\n",
        "\n",
        "# Convert back to DataFrame\n",
        "data_scaled = pd.DataFrame(data_scaled, columns=data.columns)"
      ],
      "metadata": {
        "id": "CW3OF73j4dJ1"
      },
      "execution_count": null,
      "outputs": []
    },
    {
      "cell_type": "markdown",
      "source": [],
      "metadata": {
        "id": "xbT9BZau4Hl5"
      }
    }
  ]
}